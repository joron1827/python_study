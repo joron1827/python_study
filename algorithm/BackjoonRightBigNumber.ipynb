{
 "cells": [
  {
   "cell_type": "code",
   "execution_count": 21,
   "metadata": {},
   "outputs": [
    {
     "name": "stdout",
     "output_type": "stream",
     "text": [
      "5 8 8 11 5 5 6 8 11 11 -1\n"
     ]
    }
   ],
   "source": [
    "class Stack:\n",
    "    def __init__(self):\n",
    "        self.items = []\n",
    "        self.NGE = []\n",
    "        self.secondNGE = []\n",
    "        self.stack = []\n",
    "        self.position = 1\n",
    "\n",
    "    def __str__(self):\n",
    "        return str(self.items)\n",
    "    \n",
    "    def reset(self,item):\n",
    "        self.items = item  \n",
    "    \n",
    "    def findrightbig(self,N):\n",
    "        self.stack.append(self.items.pop())\n",
    "        while len(self.stack) < N :\n",
    "            initVar = self.items.pop()\n",
    "            self.position = 1\n",
    "            while True:\n",
    "                if self.position > len(self.stack):\n",
    "                    self.NGE.append(-1)\n",
    "                    break\n",
    "                if self.stack[-self.position] > initVar:\n",
    "                    self.NGE.append(self.stack[-self.position])\n",
    "                    break                  \n",
    "                self.position +=1\n",
    "            self.stack.append(initVar)\n",
    "        return\n",
    "    \n",
    "    def popandprint(self):\n",
    "        for i in range(len(self.NGE)):\n",
    "            print(self.NGE.pop(), end=' ')\n",
    "        return print(-1)\n",
    "            \n",
    "\n",
    "N = int(input())\n",
    "item = list(map(int,input().split()))\n",
    "\n",
    "s = Stack()\n",
    "s.reset(item)\n",
    "s.findrightbig(N)\n",
    "s.popandprint()\n",
    "        "
   ]
  }
 ],
 "metadata": {
  "interpreter": {
   "hash": "09afeb6ccf93bc90f67d4bf9d44b0a6ed74042dc899e9d4b724154a33b830c8d"
  },
  "kernelspec": {
   "display_name": "Python 3.9.7 ('base')",
   "language": "python",
   "name": "python3"
  },
  "language_info": {
   "codemirror_mode": {
    "name": "ipython",
    "version": 3
   },
   "file_extension": ".py",
   "mimetype": "text/x-python",
   "name": "python",
   "nbconvert_exporter": "python",
   "pygments_lexer": "ipython3",
   "version": "3.9.7"
  },
  "orig_nbformat": 4
 },
 "nbformat": 4,
 "nbformat_minor": 2
}
