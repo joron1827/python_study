{
 "cells": [
  {
   "cell_type": "code",
   "execution_count": 70,
   "metadata": {},
   "outputs": [
    {
     "name": "stdout",
     "output_type": "stream",
     "text": [
      "5 9 48 51 95 95 95 99 88 5 6 6 3 6 48 48 88 99 1915051510 1915051510 2 1915051510 31587484321 31587484321 35154984315 -1 684352132 684352132 -1\n"
     ]
    }
   ],
   "source": [
    "import sys\n",
    "sys.setrecursionlimit(10**9)\n",
    "class Stack:\n",
    "    def __init__(self):\n",
    "        self.NGE = []\n",
    "        self.stack = []\n",
    "    # \n",
    "    def reset(self,item):\n",
    "        self.NGE = item\n",
    "    '''\n",
    "    재귀함수를 활용해 오큰수를 구합니다.\n",
    "    생성된 배열의 값을 스택에 넣고, 오른쪽보다 큰 수가 있으면\n",
    "    가까운 수를 입력합니다.\n",
    "    큰 수가 없으면 -1을 입력합니다.\n",
    "    \n",
    "    1. index를 한칸씩 늘리며 큰수가 없을경우 스택에 넣기.(스택에 넣을때 배열의 인덱스도 같이 넣습니다.)\n",
    "    2. 큰 수를 발견하면 popStack 함수를 실행 후 다음 단계로 이동\n",
    "    3. index가 마지막에 도달하면 큰수가 없는 케이스들을 -1으로 변경\n",
    "    '''\n",
    "    def findrightbig2(self,pivot):\n",
    "        if pivot == len(self.NGE)-1: # 3번\n",
    "            self.NGE[pivot] = -1\n",
    "            while len(self.stack) != 0:\n",
    "                index = self.stack[-1][1]\n",
    "                self.NGE[index] = -1\n",
    "                self.stack.pop()\n",
    "            return print(*self.NGE)\n",
    "        if self.NGE[pivot] >= self.NGE[pivot+1]:    # 1번\n",
    "            self.stack.append([self.NGE[pivot],pivot])\n",
    "            return self.findrightbig2(pivot+1)\n",
    "        else:   # 2번 배열의 현재 위치에 오른쪽 수를 입력하고 popStack 을 실행\n",
    "            self.NGE[pivot] = self.NGE[pivot+1]\n",
    "            self.popStack(pivot)\n",
    "            return self.findrightbig2(pivot+1)\n",
    "        \n",
    "        \n",
    "    # 큰 수 발견시 스택에 있는 값들과 비교합니다.\n",
    "    # 제일 마지막에 스택에 들어간 값과 배열의 현재 위치의 값과 비교하여 값이 크다면 pop, 아닐경우는 그대로 둡니다.\n",
    "    def popStack(self,pivot):\n",
    "        if len(self.stack) == 0:\n",
    "            return\n",
    "        if self.stack[-1][0] < self.NGE[pivot]:\n",
    "            self.NGE[self.stack[-1][1]] = self.NGE[pivot]\n",
    "            self.stack.pop()\n",
    "            return self.popStack(pivot)\n",
    "            \n",
    "N = int(input())\n",
    "item = list(map(int,input().split()))\n",
    "\n",
    "s = Stack()\n",
    "s.reset(item)\n",
    "s.findrightbig2(0)"
   ]
  }
 ],
 "metadata": {
  "interpreter": {
   "hash": "09afeb6ccf93bc90f67d4bf9d44b0a6ed74042dc899e9d4b724154a33b830c8d"
  },
  "kernelspec": {
   "display_name": "Python 3.9.7 ('base')",
   "language": "python",
   "name": "python3"
  },
  "language_info": {
   "codemirror_mode": {
    "name": "ipython",
    "version": 3
   },
   "file_extension": ".py",
   "mimetype": "text/x-python",
   "name": "python",
   "nbconvert_exporter": "python",
   "pygments_lexer": "ipython3",
   "version": "3.9.7"
  },
  "orig_nbformat": 4
 },
 "nbformat": 4,
 "nbformat_minor": 2
}
