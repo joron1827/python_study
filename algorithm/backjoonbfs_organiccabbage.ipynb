{
 "cells": [
  {
   "cell_type": "code",
   "execution_count": 23,
   "metadata": {},
   "outputs": [
    {
     "name": "stdout",
     "output_type": "stream",
     "text": [
      "2\n"
     ]
    }
   ],
   "source": [
    "from collections import deque\n",
    "\n",
    "class Swarm():\n",
    "    def __init__(self,col,row,cabages):\n",
    "        self.graph = []\n",
    "        self.cabages = cabages\n",
    "        self.count = 0\n",
    "        self.col = col\n",
    "        self.row = row\n",
    "        \n",
    "    '''\n",
    "    밭의 가로세로 크기, 심어져 있는 배추의 좌표를 받아서 그래프를 생성하는 함수\n",
    "    1. 밭의 크기에 맞는 그래프 생성\n",
    "    2. 생성된 밭에 배추 좌표를 입력받아 1로 표기\n",
    "    '''    \n",
    "    def makeGraph(self):\n",
    "        self.graph = [[0 for col in range(self.col)] for row in range(self.row)]\n",
    "        for i in range(count):\n",
    "            x, y = (list(map(int,input().split()))) \n",
    "            self.graph[y][x] = 1\n",
    "    \n",
    "    '''\n",
    "    (0,0) 좌표부터 심어져 있는 배추를 탐색하여 \n",
    "    필요한 지렁이 갯수를 확인하는 함수\n",
    "    1. 노드를 한칸씩 옮겨가며 배추 확인\n",
    "    2. 배추가 심어져있다면, bfs를 통해 인접 노드를 확인\n",
    "    3. 방문한 노드를 전부 0처리 후 다음 칸 확인 시작\n",
    "    '''\n",
    "    def move(self):\n",
    "        for y in range(self.row):\n",
    "            for x in range(self.col):\n",
    "                if self.graph[y][x] == 1:\n",
    "                    self.bfs(y,x)\n",
    "                    self.graph[y][x] = 0 # 중복 막기위해 루트 노드 방문 처리 \n",
    "                    self.count += 1   # 지렁이 갯수 1 증가\n",
    "                    \n",
    "    '''\n",
    "    큐를 사용하여, 방문 노드들을 입력 및 확인\n",
    "    1. move 함수로 부터 시작 노드 좌표 확인\n",
    "    2. 상하좌우 확인 후 배추가 심어져있다면 큐에 해당 좌표 삽입\n",
    "    3. 방문한 노드는 0 처리 후 큐에서 탐색 시작노드 추출 후 재시작\n",
    "    4. 큐에 방문할 노드가 없다면 함수를 종료.\n",
    "    '''                \n",
    "    def bfs(self,y,x):\n",
    "        dx = [1, -1, 0, 0]\n",
    "        dy = [0, 0, -1, 1]\n",
    "        queue = deque()         # queue 객체 생성\n",
    "        queue.append((y,x))     # queue에 시작할 좌표 입력\n",
    "        while queue:            # queue에 데이터가 없어질 때 까지 반복\n",
    "            temp = queue.popleft()    # queue에서 첫번째 원소 뽑아서 출력 (루트노드, bfs 탐색을 시작할 노드)\n",
    "            for i in range(4):        # 상하좌우로 좌표를 입력하여 방문\n",
    "                q = temp[0] + dy[i]\n",
    "                w = temp[1] + dx[i]\n",
    "                if 0 <= q < self.row and 0 <= w < self.col and self.graph[q][w] == 1:\n",
    "                    self.graph[q][w] = 0  # 배추가 심어져있을 경우 해당 노드를 방문처리 (0으로 변환) 후 방문할 큐에 입력\n",
    "                    queue.append([q, w])\n",
    "      \n",
    "                   \n",
    "N = int(input())\n",
    "swarmcount = []\n",
    "while_count = 0\n",
    "while while_count < N:  # 테스트 케이스에 맞게 실행\n",
    "    m, n, count = list(map(int,input().split()))\n",
    "    # Swarm 객체 생성 가로세로 길이와 심어져있는 배추 개수 입력\n",
    "    a = Swarm(m, n, count)\n",
    "    a.makeGraph() # 그래프 생성\n",
    "    a.move() # 한칸씩 옮겨가며 배추 확인\n",
    "    swarmcount.append(a.count) # 지렁이 갯수를 swarmcount에 추가\n",
    "    while_count += 1 \n",
    "\n",
    "for i in range(N):\n",
    "    print(swarmcount[i], end=\"\\n\") # 각 케이스에 맞게 차례대로 출력"
   ]
  }
 ],
 "metadata": {
  "interpreter": {
   "hash": "09afeb6ccf93bc90f67d4bf9d44b0a6ed74042dc899e9d4b724154a33b830c8d"
  },
  "kernelspec": {
   "display_name": "Python 3.9.7 ('base')",
   "language": "python",
   "name": "python3"
  },
  "language_info": {
   "codemirror_mode": {
    "name": "ipython",
    "version": 3
   },
   "file_extension": ".py",
   "mimetype": "text/x-python",
   "name": "python",
   "nbconvert_exporter": "python",
   "pygments_lexer": "ipython3",
   "version": "3.9.7"
  },
  "orig_nbformat": 4
 },
 "nbformat": 4,
 "nbformat_minor": 2
}
