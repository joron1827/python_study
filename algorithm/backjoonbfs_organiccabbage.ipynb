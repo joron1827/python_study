{
 "cells": [
  {
   "cell_type": "code",
   "execution_count": 30,
   "metadata": {},
   "outputs": [
    {
     "name": "stdout",
     "output_type": "stream",
     "text": [
      "5\n",
      "1\n"
     ]
    }
   ],
   "source": [
    "\n",
    "class Swarm():\n",
    "    def __init__(self,col,row,graph):\n",
    "        self.graph = graph\n",
    "        self.count = 0\n",
    "        self.col = col\n",
    "        self.row = row\n",
    "        \n",
    "    def move(self):\n",
    "        for i in range(self.row):\n",
    "            for j in range(self.col):\n",
    "                if self.graph[i][j] == 1:\n",
    "                    self.bfs(i,j)\n",
    "                    graph[i][j] = 0\n",
    "                    self.count +=1\n",
    "                    \n",
    "    def bfs(self,x,y):\n",
    "        dx = [1, -1, 0, 0]\n",
    "        dy = [0, 0, -1, 1]\n",
    "        queue = [[x, y]]\n",
    "        while queue:\n",
    "            a, b = queue[0][0], queue[0][1]\n",
    "            del queue[0]\n",
    "            for i in range(4):\n",
    "                q = a + dx[i]\n",
    "                w = b + dy[i]\n",
    "                if 0 <= q < self.row and 0 <= w < self.col and self.graph[q][w] == 1:\n",
    "                    self.graph[q][w] = 0\n",
    "                    queue.append([q, w])\n",
    "        \n",
    "N = int(input())\n",
    "swarmcount = []\n",
    "while True:\n",
    "    array = list(map(int,input().split()))\n",
    "    count = array[2]\n",
    "    #2차원 배열 생성하는 함수\n",
    "    graph = [[0 for col in range(array[0])] for row in range(array[1])]\n",
    "    for i in range(count):\n",
    "        x, y = (list(map(int,input().split()))) #배추가 심어져 있는 좌표값 받기\n",
    "        graph[y][x] = 1\n",
    "    a = Swarm(array[0],array[1],graph)\n",
    "    a.move()\n",
    "    swarmcount.append(a.count)\n",
    "    N -= 1\n",
    "    if N == 0:\n",
    "        break\n",
    "for i in range(N):\n",
    "    print(swarmcount[i], end=\"\\n\")"
   ]
  }
 ],
 "metadata": {
  "interpreter": {
   "hash": "09afeb6ccf93bc90f67d4bf9d44b0a6ed74042dc899e9d4b724154a33b830c8d"
  },
  "kernelspec": {
   "display_name": "Python 3.9.7 ('base')",
   "language": "python",
   "name": "python3"
  },
  "language_info": {
   "codemirror_mode": {
    "name": "ipython",
    "version": 3
   },
   "file_extension": ".py",
   "mimetype": "text/x-python",
   "name": "python",
   "nbconvert_exporter": "python",
   "pygments_lexer": "ipython3",
   "version": "3.9.7"
  },
  "orig_nbformat": 4
 },
 "nbformat": 4,
 "nbformat_minor": 2
}
