{
 "cells": [
  {
   "cell_type": "code",
   "execution_count": 39,
   "metadata": {},
   "outputs": [
    {
     "data": {
      "text/plain": [
       "15"
      ]
     },
     "execution_count": 39,
     "metadata": {},
     "output_type": "execute_result"
    }
   ],
   "source": [
    "def select(arr, p, r, i):\n",
    "    if p == r:\n",
    "        return arr[p]\n",
    "    q = partition(arr, p, r)    ## 퀵 정렬을 사용하여 첫 분할 지점 검색\n",
    "    k = q-p+1    ## 분할지점 다음 위치\n",
    "    if i < k:   ## 선택 위치가 분할지점 보다 작을 경우 왼쪽 재시도\n",
    "        return select(arr, p, q-1, i) \n",
    "    elif i == k:    ## 선택 위치와 분할 지점이 같을 경우 분할 지점 반환\n",
    "        return arr[q] \n",
    "    else:\n",
    "        return select(arr, p+1, r, i-k)  ## 분할 지점이 선택 위치보다 작을 경우 오른쪽에서 시도\n",
    "    \n",
    "def partition(arr, p, r): # 퀵 정렬을 사용\n",
    "    pivot = p\n",
    "    left, right = p, r\n",
    "    while left < right:\n",
    "        while arr[left] < arr[pivot] and left < right:\n",
    "            left += 1\n",
    "        while arr[right] >= arr[pivot] and left < right:\n",
    "           right -= 1\n",
    "        if left < right:\n",
    "            arr[left], arr[right] = arr[right], arr[left]\n",
    "    arr[left], arr[pivot] = arr[pivot], arr[left]\n",
    "    return left\n",
    "\n",
    "array = [10, 34, 45, 22, 15 , 21, 56, 99, 54]\n",
    "select(array, 0, len(array)-1 ,2)\n"
   ]
  }
 ],
 "metadata": {
  "interpreter": {
   "hash": "09afeb6ccf93bc90f67d4bf9d44b0a6ed74042dc899e9d4b724154a33b830c8d"
  },
  "kernelspec": {
   "display_name": "Python 3.9.7 ('base')",
   "language": "python",
   "name": "python3"
  },
  "language_info": {
   "name": "python",
   "version": "3.9.7"
  },
  "orig_nbformat": 4
 },
 "nbformat": 4,
 "nbformat_minor": 2
}
