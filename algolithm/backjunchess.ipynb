{
 "cells": [
  {
   "cell_type": "code",
   "execution_count": 89,
   "metadata": {},
   "outputs": [
    {
     "name": "stdout",
     "output_type": "stream",
     "text": [
      "[['B' 'W' 'B' 'W']\n",
      " ['B' 'W' 'B' 'W']\n",
      " ['B' 'W' 'B' 'W']\n",
      " ['B' 'W' 'B' 'W']]\n",
      "B\n"
     ]
    },
    {
     "data": {
      "text/plain": [
       "'\\nclass chessboard():\\n    def _init_(self, column, row):\\n        self.column = column\\n        self.row = row\\n        \\n    def paint(self):\\n'"
      ]
     },
     "execution_count": 89,
     "metadata": {},
     "output_type": "execute_result"
    }
   ],
   "source": [
    "import numpy as np\n",
    "\n",
    "n,m=map(int,input().split())\n",
    "board = []\n",
    "for i in range(n):\n",
    "    board.append(input())\n",
    "\n",
    "class Chessboard():\n",
    "    change = 0\n",
    "    startCol = 0\n",
    "    startRow = 0\n",
    "    newboard = []\n",
    "\n",
    "    def __init__(self, board, col, row, size):\n",
    "        self.board = board\n",
    "        self.col = col\n",
    "        self.row = row\n",
    "        self.size = size\n",
    "        \n",
    "    def cut(self,startCol,startRow):\n",
    "        for i in range(startCol, startCol + self.size):\n",
    "            for j in range(startRow, startRow + self.size):\n",
    "                Chessboard.newboard.append(self.board[i][j])\n",
    "        Chessboard.newboard = np.array(Chessboard.newboard).reshape(self.size,self.size)\n",
    "        \n",
    "    def paint(self):\n",
    "        for i in range(self.size):\n",
    "            for j in range(self.size-1):\n",
    "                if Chessboard.newboard[i][j] == Chessboard.newboard[i][j+1]:\n",
    "                    Chessboard.change += 1\n",
    "                \n",
    "           \n",
    "    \n",
    "            \n",
    "board1 = Chessboard(board,m,n,4)\n",
    "board1.cut(0,0)\n",
    "#board1.paint()\n",
    "print(board1.newboard)\n",
    "print(board1.newboard[0][0])\n",
    "\n",
    "\n",
    "\n",
    "\n",
    "        \n",
    "    \n",
    "        \n",
    "        \n",
    "        \n",
    "        \n",
    "\n",
    "\n",
    "\n",
    "\n",
    "\n",
    "#a1 = np.array(input())\n",
    "#print(a1)\n",
    "\n",
    "'''\n",
    "class chessboard():\n",
    "    def _init_(self, column, row):\n",
    "        self.column = column\n",
    "        self.row = row\n",
    "        \n",
    "    def paint(self):\n",
    "'''     \n"
   ]
  },
  {
   "cell_type": "code",
   "execution_count": null,
   "metadata": {},
   "outputs": [],
   "source": []
  },
  {
   "cell_type": "code",
   "execution_count": 59,
   "metadata": {},
   "outputs": [
    {
     "ename": "NameError",
     "evalue": "name 'BBBBBBBBWBWBW' is not defined",
     "output_type": "error",
     "traceback": [
      "\u001b[1;31m---------------------------------------------------------------------------\u001b[0m",
      "\u001b[1;31mNameError\u001b[0m                                 Traceback (most recent call last)",
      "\u001b[1;32m~\\AppData\\Local\\Temp/ipykernel_23300/2601122294.py\u001b[0m in \u001b[0;36m<module>\u001b[1;34m\u001b[0m\n\u001b[1;32m----> 1\u001b[1;33m \u001b[0mBBBBBBBBWBWBW\u001b[0m\u001b[1;33m\u001b[0m\u001b[1;33m\u001b[0m\u001b[0m\n\u001b[0m\u001b[0;32m      2\u001b[0m \u001b[1;33m\u001b[0m\u001b[0m\n",
      "\u001b[1;31mNameError\u001b[0m: name 'BBBBBBBBWBWBW' is not defined"
     ]
    }
   ],
   "source": [
    "BWBWBWBWBWBWB\n",
    "\n"
   ]
  },
  {
   "cell_type": "code",
   "execution_count": null,
   "metadata": {},
   "outputs": [],
   "source": []
  }
 ],
 "metadata": {
  "interpreter": {
   "hash": "09afeb6ccf93bc90f67d4bf9d44b0a6ed74042dc899e9d4b724154a33b830c8d"
  },
  "kernelspec": {
   "display_name": "Python 3.9.7 ('base')",
   "language": "python",
   "name": "python3"
  },
  "language_info": {
   "codemirror_mode": {
    "name": "ipython",
    "version": 3
   },
   "file_extension": ".py",
   "mimetype": "text/x-python",
   "name": "python",
   "nbconvert_exporter": "python",
   "pygments_lexer": "ipython3",
   "version": "3.9.7"
  },
  "orig_nbformat": 4
 },
 "nbformat": 4,
 "nbformat_minor": 2
}
