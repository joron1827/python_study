{
 "cells": [
  {
   "cell_type": "code",
   "execution_count": 23,
   "metadata": {},
   "outputs": [
    {
     "ename": "ValueError",
     "evalue": "not enough values to unpack (expected 2, got 0)",
     "output_type": "error",
     "traceback": [
      "\u001b[1;31m---------------------------------------------------------------------------\u001b[0m",
      "\u001b[1;31mValueError\u001b[0m                                Traceback (most recent call last)",
      "\u001b[1;32m~\\AppData\\Local\\Temp/ipykernel_18452/875161121.py\u001b[0m in \u001b[0;36m<module>\u001b[1;34m\u001b[0m\n\u001b[0;32m      1\u001b[0m \u001b[1;32mimport\u001b[0m \u001b[0mnumpy\u001b[0m \u001b[1;32mas\u001b[0m \u001b[0mnp\u001b[0m\u001b[1;33m\u001b[0m\u001b[1;33m\u001b[0m\u001b[0m\n\u001b[0;32m      2\u001b[0m \u001b[1;33m\u001b[0m\u001b[0m\n\u001b[1;32m----> 3\u001b[1;33m \u001b[0mn\u001b[0m\u001b[1;33m,\u001b[0m\u001b[0mm\u001b[0m\u001b[1;33m=\u001b[0m\u001b[0mmap\u001b[0m\u001b[1;33m(\u001b[0m\u001b[0mint\u001b[0m\u001b[1;33m,\u001b[0m\u001b[0minput\u001b[0m\u001b[1;33m(\u001b[0m\u001b[1;33m)\u001b[0m\u001b[1;33m.\u001b[0m\u001b[0msplit\u001b[0m\u001b[1;33m(\u001b[0m\u001b[1;33m)\u001b[0m\u001b[1;33m)\u001b[0m\u001b[1;33m\u001b[0m\u001b[1;33m\u001b[0m\u001b[0m\n\u001b[0m\u001b[0;32m      4\u001b[0m \u001b[0mboard\u001b[0m \u001b[1;33m=\u001b[0m \u001b[1;33m[\u001b[0m\u001b[1;33m]\u001b[0m\u001b[1;33m\u001b[0m\u001b[1;33m\u001b[0m\u001b[0m\n\u001b[0;32m      5\u001b[0m \u001b[1;32mfor\u001b[0m \u001b[0mi\u001b[0m \u001b[1;32min\u001b[0m \u001b[0mrange\u001b[0m\u001b[1;33m(\u001b[0m\u001b[0mn\u001b[0m\u001b[1;33m)\u001b[0m\u001b[1;33m:\u001b[0m\u001b[1;33m\u001b[0m\u001b[1;33m\u001b[0m\u001b[0m\n",
      "\u001b[1;31mValueError\u001b[0m: not enough values to unpack (expected 2, got 0)"
     ]
    }
   ],
   "source": [
    "import numpy as np\n",
    "\n",
    "n,m=map(int,input().split())\n",
    "board = []\n",
    "for i in range(n):\n",
    "    board.append(input())\n",
    "\n",
    "class Chessboard():\n",
    "    change = 0\n",
    "    startCol = 0\n",
    "    startRow = 0\n",
    "    newboard = []\n",
    "    count = []\n",
    "\n",
    "# initial function\n",
    "# board = given list data, col = give length of col , row = given length of row. size = board size to cut\n",
    "    def __init__(self, board, col, row, size):  \n",
    "        self.board = board\n",
    "        self.col = col\n",
    "        self.row = row\n",
    "        self.size = size\n",
    "        \n",
    "# cut the board from given list data\n",
    "# change given data to matrix via numpy\n",
    "\n",
    "    def cut(self,startCol,startRow):    \n",
    "        Chessboard.newboard = []\n",
    "        Chessboard.change = 0\n",
    "        for i in range(startCol, startCol + self.size):\n",
    "            for j in range(startRow, startRow + self.size):\n",
    "                Chessboard.newboard.append(self.board[i][j])\n",
    "        Chessboard.newboard = np.array(Chessboard.newboard).reshape(self.size,self.size)\n",
    "    \n",
    "# set specific color at first block\n",
    "    def change_init(self,colorOfinit):\n",
    "        for i in range(7):\n",
    "            Chessboard.newboard[0][0] = colorOfinit\n",
    "            \n",
    "# change color of blocks\n",
    "    def check(self,i,j):    \n",
    "        if Chessboard.newboard[i][j] == Chessboard.newboard[i][j+1]:\n",
    "            if Chessboard.newboard[i][j] == 'B':\n",
    "                Chessboard.newboard[i][j+1] = 'W'\n",
    "            else:\n",
    "                Chessboard.newboard[i][j+1] = 'B'\n",
    "            Chessboard.change +=1\n",
    "\n",
    "        \n",
    "           \n",
    "\n",
    "board1 = Chessboard(board,m,n,8)\n",
    "\n",
    "for x in range(n-8):\n",
    "    for y in range(m-8):\n",
    "        board1.cut(x,y)\n",
    "        board1.change_init('B')\n",
    "        for i in range(7):\n",
    "            for j in range(7):\n",
    "                board1.check(i,j)\n",
    "        Chessboard.count.append(board1.change)\n",
    "        \n",
    "\n",
    "for x in range(n-8):\n",
    "    for y in range(m-8):\n",
    "        board1.cut(x,y)\n",
    "        board1.change_init('W')\n",
    "        for i in range(7):\n",
    "            for j in range(7):\n",
    "                board1.check(i,j)\n",
    "        Chessboard.count.append(board1.change)\n",
    "print(min(Chessboard.count))                \n",
    "\n",
    "\n"
   ]
  }
 ],
 "metadata": {
  "interpreter": {
   "hash": "09afeb6ccf93bc90f67d4bf9d44b0a6ed74042dc899e9d4b724154a33b830c8d"
  },
  "kernelspec": {
   "display_name": "Python 3.9.7 ('base')",
   "language": "python",
   "name": "python3"
  },
  "language_info": {
   "codemirror_mode": {
    "name": "ipython",
    "version": 3
   },
   "file_extension": ".py",
   "mimetype": "text/x-python",
   "name": "python",
   "nbconvert_exporter": "python",
   "pygments_lexer": "ipython3",
   "version": "3.9.7"
  },
  "orig_nbformat": 4
 },
 "nbformat": 4,
 "nbformat_minor": 2
}
