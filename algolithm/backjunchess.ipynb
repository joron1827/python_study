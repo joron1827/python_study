{
 "cells": [
  {
   "cell_type": "code",
   "execution_count": 22,
   "metadata": {},
   "outputs": [
    {
     "name": "stdout",
     "output_type": "stream",
     "text": [
      "14\n",
      "[['W' 'B' 'W' 'B' 'W' 'B' 'W' 'B']\n",
      " ['B' 'W' 'B' 'W' 'B' 'W' 'B' 'W']\n",
      " ['B' 'W' 'B' 'W' 'B' 'W' 'B' 'W']\n",
      " ['B' 'W' 'B' 'W' 'B' 'W' 'B' 'W']\n",
      " ['B' 'W' 'B' 'W' 'B' 'W' 'B' 'W']\n",
      " ['B' 'W' 'B' 'W' 'B' 'W' 'B' 'W']\n",
      " ['B' 'W' 'B' 'W' 'B' 'W' 'B' 'W']\n",
      " ['B' 'B' 'B' 'B' 'W' 'B' 'W' 'B']]\n",
      "37\n"
     ]
    },
    {
     "data": {
      "text/plain": [
       "'\\nclass chessboard():\\n    def _init_(self, column, row):\\n        self.column = column\\n        self.row = row\\n        \\n    def paint(self):\\n'"
      ]
     },
     "execution_count": 22,
     "metadata": {},
     "output_type": "execute_result"
    }
   ],
   "source": [
    "import numpy as np\n",
    "\n",
    "n,m=map(int,input().split())\n",
    "board = []\n",
    "for i in range(n):\n",
    "    board.append(input())\n",
    "\n",
    "class Chessboard():\n",
    "    change = 0\n",
    "    startCol = 0\n",
    "    startRow = 0\n",
    "    newboard = []\n",
    "    count = []\n",
    "\n",
    "    def __init__(self, board, col, row, size):\n",
    "        self.board = board\n",
    "        self.col = col\n",
    "        self.row = row\n",
    "        self.size = size\n",
    "        \n",
    "    def cut(self,startCol,startRow):\n",
    "        Chessboard.newboard = []\n",
    "        Chessboard.change = 0\n",
    "        for i in range(startCol, startCol + self.size):\n",
    "            for j in range(startRow, startRow + self.size):\n",
    "                Chessboard.newboard.append(self.board[i][j])\n",
    "        Chessboard.newboard = np.array(Chessboard.newboard).reshape(self.size,self.size)\n",
    "    \n",
    "    def change_init(self,colorOfinit):\n",
    "        for i in range(7):\n",
    "            Chessboard.newboard[0][0] = colorOfinit\n",
    "            \n",
    "    def check(self,i,j):    \n",
    "        if Chessboard.newboard[i][j] == Chessboard.newboard[i][j+1]:\n",
    "            if Chessboard.newboard[i][j] == 'B':\n",
    "                Chessboard.newboard[i][j+1] = 'W'\n",
    "            else:\n",
    "                Chessboard.newboard[i][j+1] = 'B'\n",
    "            Chessboard.change +=1\n",
    "                    \n",
    "    def paint(self,i,j):\n",
    "        if Chessboard.newboard[i][j] == 'B':\n",
    "            Chessboard.newboard[i][j+1] = 'W'\n",
    "        else:\n",
    "            Chessboard.newboard[i][j+1] = 'B'\n",
    "        Chessboard.change +=1\n",
    "        \n",
    "           \n",
    "\n",
    "board1 = Chessboard(board,m,n,8)\n",
    "\n",
    "for x in range(n-8):\n",
    "    for y in range(m-8):\n",
    "        board1.cut(x,y)\n",
    "        board1.change_init('B')\n",
    "        for i in range(7):\n",
    "            for j in range(7):\n",
    "                board1.check(i,j)\n",
    "        Chessboard.count.append(board1.change)\n",
    "        \n",
    "\n",
    "for x in range(n-8):\n",
    "    for y in range(m-8):\n",
    "        board1.cut(x,y)\n",
    "        board1.change_init('W')\n",
    "        for i in range(7):\n",
    "            for j in range(7):\n",
    "                board1.check(i,j)\n",
    "        Chessboard.count.append(board1.change)\n",
    "print(min(Chessboard.count))                \n",
    "\n",
    "\n"
   ]
  },
  {
   "cell_type": "code",
   "execution_count": null,
   "metadata": {},
   "outputs": [],
   "source": []
  },
  {
   "cell_type": "code",
   "execution_count": 59,
   "metadata": {},
   "outputs": [
    {
     "ename": "NameError",
     "evalue": "name 'BBBBBBBBWBWBW' is not defined",
     "output_type": "error",
     "traceback": [
      "\u001b[1;31m---------------------------------------------------------------------------\u001b[0m",
      "\u001b[1;31mNameError\u001b[0m                                 Traceback (most recent call last)",
      "\u001b[1;32m~\\AppData\\Local\\Temp/ipykernel_23300/2601122294.py\u001b[0m in \u001b[0;36m<module>\u001b[1;34m\u001b[0m\n\u001b[1;32m----> 1\u001b[1;33m \u001b[0mBBBBBBBBWBWBW\u001b[0m\u001b[1;33m\u001b[0m\u001b[1;33m\u001b[0m\u001b[0m\n\u001b[0m\u001b[0;32m      2\u001b[0m \u001b[1;33m\u001b[0m\u001b[0m\n",
      "\u001b[1;31mNameError\u001b[0m: name 'BBBBBBBBWBWBW' is not defined"
     ]
    }
   ],
   "source": [
    "BWBWBWBWBWBWB\n",
    "\n"
   ]
  },
  {
   "cell_type": "code",
   "execution_count": null,
   "metadata": {},
   "outputs": [],
   "source": []
  }
 ],
 "metadata": {
  "interpreter": {
   "hash": "09afeb6ccf93bc90f67d4bf9d44b0a6ed74042dc899e9d4b724154a33b830c8d"
  },
  "kernelspec": {
   "display_name": "Python 3.9.7 ('base')",
   "language": "python",
   "name": "python3"
  },
  "language_info": {
   "codemirror_mode": {
    "name": "ipython",
    "version": 3
   },
   "file_extension": ".py",
   "mimetype": "text/x-python",
   "name": "python",
   "nbconvert_exporter": "python",
   "pygments_lexer": "ipython3",
   "version": "3.9.7"
  },
  "orig_nbformat": 4
 },
 "nbformat": 4,
 "nbformat_minor": 2
}
