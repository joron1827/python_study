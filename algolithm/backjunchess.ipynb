{
 "cells": [
  {
   "cell_type": "code",
   "execution_count": 38,
   "metadata": {},
   "outputs": [
    {
     "name": "stdout",
     "output_type": "stream",
     "text": [
      "32\n"
     ]
    }
   ],
   "source": [
    "import numpy as np\n",
    "\n",
    "n,m=map(int,input().split())\n",
    "board = []\n",
    "for i in range(n):\n",
    "    board.append(input())\n",
    "\n",
    "class Chessboard():\n",
    "    change = 0\n",
    "    newboard = []\n",
    "    count = []\n",
    "\n",
    "# initial function\n",
    "# board = given list data, col = give length of col , row = given length of row. size = board size to cut\n",
    "    def __init__(self, board, col, row, size):  \n",
    "        self.board = board\n",
    "        self.col = col\n",
    "        self.row = row\n",
    "        self.size = size\n",
    "        \n",
    "# cut the board from given list data\n",
    "# change given data to matrix via numpy\n",
    "\n",
    "    def cut(self,startCol,startRow):    \n",
    "        Chessboard.newboard = []\n",
    "        Chessboard.change = 0\n",
    "        for i in range(startCol, startCol + self.size):\n",
    "            for j in range(startRow, startRow + self.size):\n",
    "                Chessboard.newboard.append(self.board[i][j])\n",
    "        Chessboard.newboard = np.array(Chessboard.newboard).reshape(self.size,self.size)\n",
    "    \n",
    "# set specific color at first block\n",
    "    def changeFisrtCol(self,colorOfinit):\n",
    "        if Chessboard.newboard[0][0] != colorOfinit:\n",
    "            Chessboard.newboard[0][0] = colorOfinit\n",
    "            Chessboard.change += 1\n",
    "        for i in range(7):\n",
    "            if Chessboard.newboard[i][0] == Chessboard.newboard[i+1][0]:\n",
    "                if Chessboard.newboard[i][0] == 'B':\n",
    "                    Chessboard.newboard[i+1][0] = 'W'\n",
    "                else:\n",
    "                    Chessboard.newboard[i+1][0] = 'B'\n",
    "                Chessboard.change += 1\n",
    "\n",
    "            \n",
    "# change color of blocks\n",
    "    def check(self,i,j):    \n",
    "        if Chessboard.newboard[i][j] == Chessboard.newboard[i][j+1]:\n",
    "            if Chessboard.newboard[i][j] == 'B':\n",
    "                Chessboard.newboard[i][j+1] = 'W'\n",
    "            else:\n",
    "                Chessboard.newboard[i][j+1] = 'B'\n",
    "            Chessboard.change += 1\n",
    "\n",
    "        \n",
    "board1 = Chessboard(board,m,n,8) # 보드 객체 생성\n",
    "\n",
    "\n",
    "# 위치를 바꿔가며 8x8 크기의 보드를 자른뒤 색칠하는 작업입니다.\n",
    "for x in range(n-8):\n",
    "    for y in range(m-8):\n",
    "        board1.cut(x,y)\n",
    "        board1.changeFisrtCol('B')\n",
    "        for i in range(8):\n",
    "            for j in range(7):\n",
    "                board1.check(i,j)\n",
    "        Chessboard.count.append(board1.change)\n",
    "        \n",
    "for x in range(n-8):\n",
    "    for y in range(m-8):\n",
    "        board1.cut(x,y)\n",
    "        board1.changeFisrtCol('W')\n",
    "        for i in range(8):\n",
    "            for j in range(7):\n",
    "                board1.check(i,j)\n",
    "        Chessboard.count.append(board1.change)\n",
    "\n",
    "print(min(Chessboard.count))                \n"
   ]
  }
 ],
 "metadata": {
  "interpreter": {
   "hash": "09afeb6ccf93bc90f67d4bf9d44b0a6ed74042dc899e9d4b724154a33b830c8d"
  },
  "kernelspec": {
   "display_name": "Python 3.9.7 ('base')",
   "language": "python",
   "name": "python3"
  },
  "language_info": {
   "codemirror_mode": {
    "name": "ipython",
    "version": 3
   },
   "file_extension": ".py",
   "mimetype": "text/x-python",
   "name": "python",
   "nbconvert_exporter": "python",
   "pygments_lexer": "ipython3",
   "version": "3.9.7"
  },
  "orig_nbformat": 4
 },
 "nbformat": 4,
 "nbformat_minor": 2
}
