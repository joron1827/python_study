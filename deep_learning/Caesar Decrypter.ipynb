{
 "cells": [
  {
   "cell_type": "code",
   "execution_count": 13,
   "metadata": {},
   "outputs": [
    {
     "name": "stdout",
     "output_type": "stream",
     "text": [
      "암호화 된 문자입니다. BYFFI QILFX\n",
      "복호화 된 문자입니다. HELLO WORLD\n"
     ]
    }
   ],
   "source": [
    "import string\n",
    "\n",
    "class Caesar:\n",
    "    def __init__(self):\n",
    "        self.pushDisit = 0\n",
    "        self.asciiLetter = string.ascii_uppercase\n",
    "        \n",
    "    def setter(self, inputInt):   \n",
    "        if inputInt > 26: print(\"숫자가 너무 큽니다. 기본값으로 설정됩니다.\"); inputInt = 3\n",
    "        self.pushDisit = inputInt\n",
    "        self.asciiLetter = self.asciiLetter[self.pushDisit:] + \\\n",
    "                             self.asciiLetter[:self.pushDisit]\n",
    "    \n",
    "    def encrypter(self, stringToChange):\n",
    "        tempLetter = string.ascii_uppercase\n",
    "        result = ''\n",
    "        for i in stringToChange:\n",
    "            if i in tempLetter:\n",
    "                result += self.asciiLetter[tempLetter.index(i)]\n",
    "            else:\n",
    "                result += ' '\n",
    "        return ''.join(result)\n",
    "    \n",
    "    def decrypter(self, stringToChange):\n",
    "        tempLetter = string.ascii_uppercase\n",
    "        result = ''\n",
    "        for i in stringToChange:\n",
    "            if i in self.asciiLetter:\n",
    "                result += tempLetter[self.asciiLetter.index(i)]\n",
    "            else:\n",
    "                result +=' '\n",
    "        return ''.join(result)\n",
    "    \n",
    "if __name__ == \"__main__\":\n",
    "    test = Caesar()\n",
    "    test.setter(20)\n",
    "    encryptedStr = test.encrypter('HELLO WORLD')\n",
    "    decryptedStr = test.decrypter(encryptedStr)\n",
    "    print(\"암호화 된 문자입니다.\", encryptedStr)\n",
    "    print(\"복호화 된 문자입니다.\", decryptedStr)\n",
    "    \n",
    "    \n",
    "    \n",
    "\n",
    "\n",
    "            \n",
    "    \n",
    "\n",
    "        "
   ]
  },
  {
   "cell_type": "code",
   "execution_count": 5,
   "metadata": {},
   "outputs": [
    {
     "data": {
      "text/plain": [
       "'Good Morning!     I like Python  '"
      ]
     },
     "execution_count": 5,
     "metadata": {},
     "output_type": "execute_result"
    }
   ],
   "source": []
  },
  {
   "cell_type": "code",
   "execution_count": null,
   "metadata": {},
   "outputs": [],
   "source": []
  }
 ],
 "metadata": {
  "interpreter": {
   "hash": "09afeb6ccf93bc90f67d4bf9d44b0a6ed74042dc899e9d4b724154a33b830c8d"
  },
  "kernelspec": {
   "display_name": "Python 3.9.7 ('base')",
   "language": "python",
   "name": "python3"
  },
  "language_info": {
   "codemirror_mode": {
    "name": "ipython",
    "version": 3
   },
   "file_extension": ".py",
   "mimetype": "text/x-python",
   "name": "python",
   "nbconvert_exporter": "python",
   "pygments_lexer": "ipython3",
   "version": "3.9.7"
  },
  "orig_nbformat": 4
 },
 "nbformat": 4,
 "nbformat_minor": 2
}
