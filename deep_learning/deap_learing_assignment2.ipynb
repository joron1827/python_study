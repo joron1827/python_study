{
 "cells": [
  {
   "cell_type": "code",
   "execution_count": 39,
   "metadata": {},
   "outputs": [
    {
     "name": "stdout",
     "output_type": "stream",
     "text": [
      "[4, 3, 8]\n",
      "[5, 4, 1]\n",
      "상금 1만원\n"
     ]
    }
   ],
   "source": [
    "import random\n",
    "\n",
    "class Lottery():\n",
    "    def __init__(self):\n",
    "        self.winningNumber = []\n",
    "        self.myNumber = []\n",
    "        \n",
    "    def generateWin(self):\n",
    "        temp = random.randint(0,9) # 난수 생성 후 temp에 assign\n",
    "        # 당첨 번호안에 중복된 temp가 존재 시 반복\n",
    "        while temp in self.winningNumber: \n",
    "            temp = random.randint(0,9) # 새로운 번호 뽑힐 경우 중단\n",
    "        self.winningNumber.append(temp) # 새로운 번호 당첨 번호에 입력\n",
    "        if len(self.winningNumber) == 3:\n",
    "            return\n",
    "        return self.generateWin() #재귀로 반복\n",
    "    \n",
    "    def inputMyNumber(self):\n",
    "        self.myNumber = list(map(int,input().split())) \n",
    "        return\n",
    "    \n",
    "    def compareNumber(self):\n",
    "        count = 0\n",
    "        for i in range(3):\n",
    "            for num in self.winningNumber:\n",
    "                if num == self.myNumber[i]:\n",
    "                    count += 1\n",
    "        if count == 0:\n",
    "            print(\"다음 기회에...\")\n",
    "        elif count == 1:\n",
    "            print(\"상금 1만원\")\n",
    "        elif count == 2:\n",
    "            print(\"상금 1천만원\")\n",
    "        else:\n",
    "            print(\"상금 1억원\")\n",
    "        return \n",
    "a = Lottery()\n",
    "a.generateWin()\n",
    "print(a.winningNumber)\n",
    "a.inputMyNumber()\n",
    "print(a.myNumber)\n",
    "a.compareNumber()\n"
   ]
  },
  {
   "cell_type": "code",
   "execution_count": 1,
   "metadata": {},
   "outputs": [
    {
     "name": "stdout",
     "output_type": "stream",
     "text": [
      "정수를 입력하시오 : 3\n",
      "정수를 입력하시오 : 4\n",
      "정수를 입력하시오 : 5\n",
      "정수를 입력하시오 : 6\n",
      "정수를 입력하시오 : 1\n",
      "정수를 입력하시오 : 2\n",
      "정수를 입력하시오 : 3\n",
      "정수를 입력하시오 : -99\n",
      "7개의 유효한 정수중 가장 큰 정수는 6 이고, 가장 작은 정수는 1 입니다.\n"
     ]
    }
   ],
   "source": [
    "class BigAndSmall():\n",
    "    def __init__(self):\n",
    "        self.number = []\n",
    "        \n",
    "    def input(self):\n",
    "        self.number.append(0)\n",
    "        while self.number[-1] != -99: #-99입력시 멈춥니다.\n",
    "            print(\"정수를 입력하시오 : \", end='')\n",
    "            self.number.append(int(input()))\n",
    "            print(self.number[-1])\n",
    "        del(self.number[0])\n",
    "        self.number.pop()\n",
    "        return\n",
    "    \n",
    "    def findNumber(self):\n",
    "        small,big = self.number[0], self.number[-1]\n",
    "        for i in range(len(self.number)):\n",
    "            if self.number[i] > big:\n",
    "                big = self.number[i]\n",
    "            elif self.number[i] < small:\n",
    "                small = self.number[i]\n",
    "        return print(\"{0}개의 유효한 정수중 가장 큰 정수는 {1} 이고, 가장 작은 정수는 {2} 입니다.\".format(len(self.number),big,small))\n",
    "                \n",
    "        \n",
    "a = BigAndSmall()\n",
    "a.input()\n",
    "a.findNumber()\n"
   ]
  },
  {
   "cell_type": "code",
   "execution_count": 60,
   "metadata": {},
   "outputs": [
    {
     "name": "stdout",
     "output_type": "stream",
     "text": [
      "fahrenheit : 32.0\n",
      "fahrenheit : 50.0\n",
      "fahrenheit : 68.0\n",
      "fahrenheit : 86.0\n",
      "fahrenheit : 104.0\n",
      "fahrenheit : 122.0\n"
     ]
    }
   ],
   "source": [
    "def cel2fah(celcius):\n",
    "    fahrenheit = celcius * 9 / 5 + 32\n",
    "    return fahrenheit\n",
    "\n",
    "for i in range(6):\n",
    "    print(\"fahrenheit :\", cel2fah(i*10))"
   ]
  }
 ],
 "metadata": {
  "interpreter": {
   "hash": "09afeb6ccf93bc90f67d4bf9d44b0a6ed74042dc899e9d4b724154a33b830c8d"
  },
  "kernelspec": {
   "display_name": "Python 3.9.7 ('base')",
   "language": "python",
   "name": "python3"
  },
  "language_info": {
   "codemirror_mode": {
    "name": "ipython",
    "version": 3
   },
   "file_extension": ".py",
   "mimetype": "text/x-python",
   "name": "python",
   "nbconvert_exporter": "python",
   "pygments_lexer": "ipython3",
   "version": "3.9.7"
  },
  "orig_nbformat": 4
 },
 "nbformat": 4,
 "nbformat_minor": 2
}
